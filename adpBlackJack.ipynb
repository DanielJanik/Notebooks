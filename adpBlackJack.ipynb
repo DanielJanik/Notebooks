{
    "metadata": {
        "kernelspec": {
            "name": "SQL",
            "display_name": "SQL",
            "language": "sql"
        },
        "language_info": {
            "name": "sql",
            "version": ""
        }
    },
    "nbformat_minor": 2,
    "nbformat": 4,
    "cells": [
        {
            "cell_type": "markdown",
            "source": "Simple SQL BlackJack by Daniel Janik - May 28 2019 - SQLTECHBLOG.COM\r\n\r\nThis is a sample notebook to show you some of the cool things what Azure Data Studio Notebooks can do while having a little fun.\r\n\r\nYou should start by running each block until you get to see your cards. \r\n\r\nNext you'll want to either Stay or Hit to try and win.\r\n\r\nTo reset the game: Click \"Clear Results\" and then run the code blocks in order from top to bottom.",
            "metadata": {}
        },
        {
            "cell_type": "markdown",
            "source": "Setup the deck. You could easily add more than one deck for added fun.",
            "metadata": {}
        },
        {
            "cell_type": "code",
            "source": "set nocount on\r\ndrop table if exists #deck\r\n\r\ndeclare @suit table (suit nchar(1))\r\ninsert into @suit (suit) values (N'♠'),(N'♣'),(N'♥'),(N'♦')\r\n\r\ndeclare @cardface table (type nchar(1), value tinyint)\r\ninsert into @cardface (type, value) values (N'1', 1),(N'2',2),(N'3',3),(N'4',4),(N'5',5),(N'6',6),(N'7',7),(N'8',8),(N'9',9),(N'J',10),(N'Q',10),(N'K',10),(N'A',11)\r\n\r\nCREATE TABLE #deck (id int identity(1,1), type nchar(1), value tinyint, suit nchar(1), dealt bit default(0), playercard bit default(0))\r\ninsert into #deck (type, value, suit) \r\nselect type, value, suit from @cardface cross apply @suit",
            "metadata": {},
            "outputs": [],
            "execution_count": 9
        },
        {
            "cell_type": "markdown",
            "source": "Now deal cards to player and house. Using the rand() function helps simulate the deck shuffle.",
            "metadata": {}
        },
        {
            "cell_type": "code",
            "source": "--First card to the dealer\r\nupdate #deck set dealt = 'TRUE' where id = FLOOR(RAND()*(52)+1);\r\n\r\n--Second Card to the player\r\ndeclare @i int = -1\r\nwhile (@i = -1)\r\nbegin\r\n\tset @i = FLOOR(RAND()*(52)+1);\r\n\tif (@i in (select id from #deck where dealt = 'TRUE'))\r\n\tbegin\r\n\t\tset @i = -1\r\n\tend\r\nend\r\n\r\nupdate #deck set dealt = 'TRUE', playercard = 'TRUE' where id = @i\r\n\r\n--Third Card to the dealer\r\nSET @i = -1\r\nwhile (@i = -1)\r\nbegin\r\n\tset @i = FLOOR(RAND()*(52)+1);\r\n\tif (@i in (select id from #deck where dealt = 'TRUE'))\r\n\tbegin\r\n\t\tset @i = -1\r\n\tend\r\nend\r\n\r\nupdate #deck set dealt = 'TRUE' where id = @i\r\n\r\n--Fourth Card to the player\r\nSET @i = -1\r\nwhile (@i = -1)\r\nbegin\r\n\tset @i = FLOOR(RAND()*(52)+1);\r\n\tif (@i in (select id from #deck where dealt = 'TRUE'))\r\n\tbegin\r\n\t\tset @i = -1\r\n\tend\r\nend\r\n\r\nupdate #deck set dealt = 'TRUE', playercard = 'TRUE' where id = @i",
            "metadata": {},
            "outputs": [],
            "execution_count": 10
        },
        {
            "cell_type": "markdown",
            "source": "Show dealer and player cards",
            "metadata": {}
        },
        {
            "cell_type": "code",
            "source": "select type, suit from #deck where playercard = 'TRUE'\r\n\r\nselect top 1 type, suit from #deck where playercard = 'FALSE' and dealt = 'TRUE'\r\nUNION\r\nselect '??', '??'\r\n\r\nif (select sum(value) from #deck where playercard = 'TRUE') = 21\r\nBEGIN\r\n    print 'BLACKJACK! Player Wins.'\r\nEND",
            "metadata": {},
            "outputs": [],
            "execution_count": 11
        },
        {
            "cell_type": "markdown",
            "source": "You can run either of the next two code blocks. Hit or Stay. Stay will evaluate your hand vs the house.",
            "metadata": {}
        },
        {
            "cell_type": "code",
            "source": "--Hit\r\ndeclare @i int = -1\r\nwhile (@i = -1)\r\nbegin\r\n\tset @i = FLOOR(RAND()*(52)+1);\r\n\tif (@i in (select id from #deck where dealt = 'TRUE'))\r\n\tbegin\r\n\t\tset @i = -1\r\n\tend\r\nend\r\n\r\nupdate #deck set dealt = 'TRUE', playercard = 'TRUE' where id = @i\r\n\r\n--Show player and dealer hands\r\nselect type, suit from #deck where playercard = 'TRUE'\r\n\r\nselect top 1 type, suit from #deck where playercard = 'FALSE' and dealt = 'TRUE'\r\nUNION\r\nselect '??', '??'\r\n\r\ndeclare @playervalue tinyint\r\nselect @playervalue = sum(value) from #deck where playercard = 'TRUE'\r\nif (@playervalue > 21)\r\nBEGIN\r\n    while (@playervalue > 21) and exists (select id from #deck where playercard = 'TRUE' and value = 11)\r\n    BEGIN\r\n        --May count an ace as 1 instead of 11\r\n        update #deck set value = 1 where id in (select top 1 id from #deck where playercard = 'TRUE' and value = 11)\r\n\r\n        select @playervalue = sum(value) from #deck where playercard = 'TRUE'\r\n    END\r\nEND\r\n\r\nif (@playervalue > 21)\r\nBEGIN\r\n    print 'Player BUST!'\r\nEND",
            "metadata": {},
            "outputs": [],
            "execution_count": 12
        },
        {
            "cell_type": "code",
            "source": "--Stay\r\n--Show player and dealer hands\r\nselect type, suit from #deck where playercard = 'TRUE'\r\n\r\n--If dealer hand is less than player hand dealer must draw cards until equal, higher, or until 21\r\ndeclare @i int, @housevalue tinyint = 0, @playervalue tinyint = 0\r\nselect @playervalue = sum(value) from #deck where playercard = 'TRUE'\r\nselect @housevalue = sum(value) from #deck where dealt = 'TRUE' and playercard = 'FALSE'\r\nIF (@housevalue > 21)\r\nBEGIN\r\n    PRINT 'House busted. Player Wins!'\r\nEND\r\nelse \r\nif (@housevalue >= @playervalue) \r\nBEGIN\r\n    PRINT CONCAT('House Wins. ', @housevalue, ' to ', @playervalue) \r\nEND\r\nELSE\r\nBEGIN\r\n    while (@housevalue < @playervalue)\r\n    begin\r\n        SET @i = -1\r\n        while (@i = -1)\r\n        begin\r\n            set @i = FLOOR(RAND()*(52)+1);\r\n            if (@i in (select id from #deck where dealt = 'TRUE'))\r\n            begin\r\n                set @i = -1\r\n            end\r\n        end\r\n\r\n        update #deck set dealt = 'TRUE' where id = @i\r\n\r\n        select @housevalue = sum(value) from #deck where dealt = 'TRUE' and playercard = 'FALSE'\r\n\r\n        while (@housevalue > 21) and exists (select id from #deck where dealt = 'TRUE' and playercard = 'FALSE' and value = 11)\r\n        BEGIN\r\n            --May count an ace as 1 instead of 11\r\n            update #deck set value = 1 where id in (select top 1 id from #deck where dealt = 'TRUE' and playercard = 'FALSE' and value = 11)\r\n\r\n            select @housevalue = sum(value) from #deck where playercard = 'TRUE'\r\n        END\r\n\r\n    end\r\nEND\r\n\r\nIF (@housevalue > 21)\r\nBEGIN\r\n    PRINT 'House busted. Player Wins!'\r\nEND\r\nELSE\r\nif (@housevalue >= @playervalue) \r\nBEGIN\r\n    PRINT CONCAT('House Wins. ', @housevalue, ' to ', @playervalue) \r\nEND\r\n\r\nselect type, suit from #deck where playercard = 'FALSE' and dealt = 'TRUE'",
            "metadata": {},
            "outputs": [],
            "execution_count": 13
        },
        {
            "cell_type": "markdown",
            "source": "Thanks for playing! If you're seeking a challenge and want to add to the game, why not add bets with a running player total? You may also consider a shoe to hold multiple decks or hand splitting... Enjoy!",
            "metadata": {}
        }
    ]
}